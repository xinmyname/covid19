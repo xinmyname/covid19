{
 "cells": [
  {
   "cell_type": "code",
   "execution_count": null,
   "metadata": {},
   "outputs": [],
   "source": [
    "import plotly.express as px\n",
    "import plotly.graph_objects as go\n",
    "import pandas as pd\n",
    "\n",
    "# All frames need to be inverted, since they come sorted in descending order by date\n",
    "# Washington needs special attention to skip the first 2 days of data\n",
    "ca_df = pd.read_csv(\"https://covidtracking.com/api/states/daily.csv?state=CA\")[::-1]\n",
    "or_df = pd.read_csv(\"https://covidtracking.com/api/states/daily.csv?state=OR\")[::-1]\n",
    "us_df = pd.read_csv(\"https://covidtracking.com/api/us/daily.csv\")[::-1]\n",
    "wa_df = pd.read_csv(\"https://covidtracking.com/api/states/daily.csv?state=WA\")[::-1][2:]\n",
    "\n",
    "# Fix for OR data, 2020 Mar 25\n",
    "or_df.iat[21,2] = 266   # positive\n",
    "or_df.iat[21,7] = 5742  # total"
   ]
  },
  {
   "cell_type": "code",
   "execution_count": null,
   "metadata": {},
   "outputs": [],
   "source": [
    "def percent_positive(row):\n",
    "    return row['positive'] / row['total'] * 100\n",
    "\n",
    "ca_df['percent_positive'] = ca_df.apply(lambda row: percent_positive(row), axis=1)\n",
    "or_df['percent_positive'] = or_df.apply(lambda row: percent_positive(row), axis=1)\n",
    "us_df['percent_positive'] = us_df.apply(lambda row: percent_positive(row), axis=1)\n",
    "wa_df['percent_positive'] = wa_df.apply(lambda row: percent_positive(row), axis=1)\n"
   ]
  },
  {
   "cell_type": "code",
   "execution_count": null,
   "metadata": {
    "scrolled": false
   },
   "outputs": [],
   "source": [
    "fig = go.Figure()\n",
    "fig.add_trace(go.Scatter(x=or_df.dateChecked, y=or_df.positive, mode='lines+markers'))\n",
    "fig.update_layout(title='Positive Cases in Oregon')\n"
   ]
  },
  {
   "cell_type": "code",
   "execution_count": null,
   "metadata": {},
   "outputs": [],
   "source": [
    "fig = go.Figure()\n",
    "fig.add_trace(go.Scatter(x=or_df.dateChecked, y=or_df.total, mode='lines+markers'))\n",
    "fig.update_layout(title='Total Cases in Oregon')\n"
   ]
  },
  {
   "cell_type": "code",
   "execution_count": null,
   "metadata": {},
   "outputs": [],
   "source": [
    "fig = go.Figure()\n",
    "fig.add_trace(go.Scatter(x=or_df.dateChecked, y=or_df.positive, mode='lines+markers', name='OR'))\n",
    "fig.add_trace(go.Scatter(x=ca_df.dateChecked, y=ca_df.positive, mode='lines+markers', name='CA'))\n",
    "fig.add_trace(go.Scatter(x=wa_df.dateChecked, y=wa_df.positive, mode='lines+markers', name='WA'))\n",
    "fig.update_layout(title='Positive Cases, U.S. West Coast')\n"
   ]
  },
  {
   "cell_type": "code",
   "execution_count": null,
   "metadata": {},
   "outputs": [],
   "source": [
    "fig = go.Figure()\n",
    "fig.add_trace(go.Scatter(x=or_df.dateChecked, y=or_df.percent_positive, mode='lines+markers', name='OR'))\n",
    "fig.add_trace(go.Scatter(x=ca_df.dateChecked, y=ca_df.percent_positive, mode='lines+markers', name='CA'))\n",
    "fig.add_trace(go.Scatter(x=wa_df.dateChecked, y=wa_df.percent_positive, mode='lines+markers', name='WA'))\n",
    "fig.add_trace(go.Scatter(x=us_df.dateChecked, y=us_df.percent_positive, mode='lines+markers', name='US'))\n",
    "fig.update_layout(title='Percent-Positive Cases, U.S. and U.S. West Coast')\n"
   ]
  },
  {
   "cell_type": "code",
   "execution_count": null,
   "metadata": {},
   "outputs": [],
   "source": [
    "fig = go.Figure()\n",
    "fig.add_trace(go.Scatter(x=us_df.dateChecked, y=us_df.positive, mode='lines+markers', name='US'))\n",
    "fig.update_layout(title='Total Cases in U.S.')\n"
   ]
  },
  {
   "cell_type": "code",
   "execution_count": null,
   "metadata": {},
   "outputs": [],
   "source": []
  }
 ],
 "metadata": {
  "kernelspec": {
   "display_name": "Python 3",
   "language": "python",
   "name": "python3"
  },
  "language_info": {
   "codemirror_mode": {
    "name": "ipython",
    "version": 3
   },
   "file_extension": ".py",
   "mimetype": "text/x-python",
   "name": "python",
   "nbconvert_exporter": "python",
   "pygments_lexer": "ipython3",
   "version": "3.7.5"
  }
 },
 "nbformat": 4,
 "nbformat_minor": 4
}
